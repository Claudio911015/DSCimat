{
  "nbformat": 4,
  "nbformat_minor": 0,
  "metadata": {
    "colab": {
      "name": "mexico_workshop_am.ipynb",
      "provenance": [],
      "collapsed_sections": []
    },
    "kernelspec": {
      "name": "python3",
      "display_name": "Python 3"
    }
  },
  "cells": [
    {
      "cell_type": "markdown",
      "metadata": {
        "id": "hazFloWN-fKj",
        "colab_type": "text"
      },
      "source": [
        "### Recurrent Neural Networks\n",
        "In this section, we train a basic RNN on the IMDB movie reviews dataset. The task is to predict whether a movie review is positive or negative."
      ]
    },
    {
      "cell_type": "code",
      "metadata": {
        "id": "eaxummoZ-cQ0",
        "colab_type": "code",
        "colab": {
          "base_uri": "https://localhost:8080/",
          "height": 955
        },
        "outputId": "5eee199f-62b1-455d-9c0c-1a7f5e04f981"
      },
      "source": [
        "%%bash\n",
        "pip install tensorflow==2.1.0rc1\n",
        "pip install tensorflow-datasets"
      ],
      "execution_count": 4,
      "outputs": [
        {
          "output_type": "stream",
          "text": [
            "Requirement already satisfied: tensorflow==2.1.0rc1 in /usr/local/lib/python3.6/dist-packages (2.1.0rc1)\n",
            "Requirement already satisfied: wrapt>=1.11.1 in /usr/local/lib/python3.6/dist-packages (from tensorflow==2.1.0rc1) (1.11.2)\n",
            "Requirement already satisfied: termcolor>=1.1.0 in /usr/local/lib/python3.6/dist-packages (from tensorflow==2.1.0rc1) (1.1.0)\n",
            "Requirement already satisfied: wheel>=0.26; python_version >= \"3\" in /usr/local/lib/python3.6/dist-packages (from tensorflow==2.1.0rc1) (0.33.6)\n",
            "Requirement already satisfied: google-pasta>=0.1.6 in /usr/local/lib/python3.6/dist-packages (from tensorflow==2.1.0rc1) (0.1.8)\n",
            "Requirement already satisfied: six>=1.12.0 in /usr/local/lib/python3.6/dist-packages (from tensorflow==2.1.0rc1) (1.12.0)\n",
            "Requirement already satisfied: absl-py>=0.7.0 in /usr/local/lib/python3.6/dist-packages (from tensorflow==2.1.0rc1) (0.8.1)\n",
            "Requirement already satisfied: keras-applications>=1.0.8 in /usr/local/lib/python3.6/dist-packages (from tensorflow==2.1.0rc1) (1.0.8)\n",
            "Requirement already satisfied: keras-preprocessing>=1.1.0 in /usr/local/lib/python3.6/dist-packages (from tensorflow==2.1.0rc1) (1.1.0)\n",
            "Requirement already satisfied: protobuf>=3.8.0 in /usr/local/lib/python3.6/dist-packages (from tensorflow==2.1.0rc1) (3.10.0)\n",
            "Requirement already satisfied: tensorflow-estimator<2.2.0,>=2.1.0rc0 in /usr/local/lib/python3.6/dist-packages (from tensorflow==2.1.0rc1) (2.1.0)\n",
            "Requirement already satisfied: opt-einsum>=2.3.2 in /usr/local/lib/python3.6/dist-packages (from tensorflow==2.1.0rc1) (3.1.0)\n",
            "Requirement already satisfied: numpy<2.0,>=1.16.0 in /usr/local/lib/python3.6/dist-packages (from tensorflow==2.1.0rc1) (1.17.4)\n",
            "Requirement already satisfied: grpcio>=1.8.6 in /usr/local/lib/python3.6/dist-packages (from tensorflow==2.1.0rc1) (1.15.0)\n",
            "Requirement already satisfied: astor>=0.6.0 in /usr/local/lib/python3.6/dist-packages (from tensorflow==2.1.0rc1) (0.8.1)\n",
            "Requirement already satisfied: tensorboard<2.2.0,>=2.1.0 in /usr/local/lib/python3.6/dist-packages (from tensorflow==2.1.0rc1) (2.1.0)\n",
            "Requirement already satisfied: gast==0.2.2 in /usr/local/lib/python3.6/dist-packages (from tensorflow==2.1.0rc1) (0.2.2)\n",
            "Requirement already satisfied: h5py in /usr/local/lib/python3.6/dist-packages (from keras-applications>=1.0.8->tensorflow==2.1.0rc1) (2.8.0)\n",
            "Requirement already satisfied: setuptools in /usr/local/lib/python3.6/dist-packages (from protobuf>=3.8.0->tensorflow==2.1.0rc1) (42.0.2)\n",
            "Requirement already satisfied: google-auth-oauthlib<0.5,>=0.4.1 in /usr/local/lib/python3.6/dist-packages (from tensorboard<2.2.0,>=2.1.0->tensorflow==2.1.0rc1) (0.4.1)\n",
            "Requirement already satisfied: google-auth<2,>=1.6.3 in /usr/local/lib/python3.6/dist-packages (from tensorboard<2.2.0,>=2.1.0->tensorflow==2.1.0rc1) (1.10.0)\n",
            "Requirement already satisfied: requests<3,>=2.21.0 in /usr/local/lib/python3.6/dist-packages (from tensorboard<2.2.0,>=2.1.0->tensorflow==2.1.0rc1) (2.21.0)\n",
            "Requirement already satisfied: werkzeug>=0.11.15 in /usr/local/lib/python3.6/dist-packages (from tensorboard<2.2.0,>=2.1.0->tensorflow==2.1.0rc1) (0.16.0)\n",
            "Requirement already satisfied: markdown>=2.6.8 in /usr/local/lib/python3.6/dist-packages (from tensorboard<2.2.0,>=2.1.0->tensorflow==2.1.0rc1) (3.1.1)\n",
            "Requirement already satisfied: requests-oauthlib>=0.7.0 in /usr/local/lib/python3.6/dist-packages (from google-auth-oauthlib<0.5,>=0.4.1->tensorboard<2.2.0,>=2.1.0->tensorflow==2.1.0rc1) (1.3.0)\n",
            "Requirement already satisfied: pyasn1-modules>=0.2.1 in /usr/local/lib/python3.6/dist-packages (from google-auth<2,>=1.6.3->tensorboard<2.2.0,>=2.1.0->tensorflow==2.1.0rc1) (0.2.7)\n",
            "Requirement already satisfied: cachetools<5.0,>=2.0.0 in /usr/local/lib/python3.6/dist-packages (from google-auth<2,>=1.6.3->tensorboard<2.2.0,>=2.1.0->tensorflow==2.1.0rc1) (4.0.0)\n",
            "Requirement already satisfied: rsa<4.1,>=3.1.4 in /usr/local/lib/python3.6/dist-packages (from google-auth<2,>=1.6.3->tensorboard<2.2.0,>=2.1.0->tensorflow==2.1.0rc1) (4.0)\n",
            "Requirement already satisfied: urllib3<1.25,>=1.21.1 in /usr/local/lib/python3.6/dist-packages (from requests<3,>=2.21.0->tensorboard<2.2.0,>=2.1.0->tensorflow==2.1.0rc1) (1.24.3)\n",
            "Requirement already satisfied: certifi>=2017.4.17 in /usr/local/lib/python3.6/dist-packages (from requests<3,>=2.21.0->tensorboard<2.2.0,>=2.1.0->tensorflow==2.1.0rc1) (2019.11.28)\n",
            "Requirement already satisfied: idna<2.9,>=2.5 in /usr/local/lib/python3.6/dist-packages (from requests<3,>=2.21.0->tensorboard<2.2.0,>=2.1.0->tensorflow==2.1.0rc1) (2.8)\n",
            "Requirement already satisfied: chardet<3.1.0,>=3.0.2 in /usr/local/lib/python3.6/dist-packages (from requests<3,>=2.21.0->tensorboard<2.2.0,>=2.1.0->tensorflow==2.1.0rc1) (3.0.4)\n",
            "Requirement already satisfied: oauthlib>=3.0.0 in /usr/local/lib/python3.6/dist-packages (from requests-oauthlib>=0.7.0->google-auth-oauthlib<0.5,>=0.4.1->tensorboard<2.2.0,>=2.1.0->tensorflow==2.1.0rc1) (3.1.0)\n",
            "Requirement already satisfied: pyasn1<0.5.0,>=0.4.6 in /usr/local/lib/python3.6/dist-packages (from pyasn1-modules>=0.2.1->google-auth<2,>=1.6.3->tensorboard<2.2.0,>=2.1.0->tensorflow==2.1.0rc1) (0.4.8)\n",
            "Requirement already satisfied: tensorflow-datasets in /usr/local/lib/python3.6/dist-packages (1.3.2)\n",
            "Requirement already satisfied: tqdm in /usr/local/lib/python3.6/dist-packages (from tensorflow-datasets) (4.28.1)\n",
            "Requirement already satisfied: absl-py in /usr/local/lib/python3.6/dist-packages (from tensorflow-datasets) (0.8.1)\n",
            "Requirement already satisfied: numpy in /usr/local/lib/python3.6/dist-packages (from tensorflow-datasets) (1.17.4)\n",
            "Requirement already satisfied: promise in /usr/local/lib/python3.6/dist-packages (from tensorflow-datasets) (2.2.1)\n",
            "Requirement already satisfied: dill in /usr/local/lib/python3.6/dist-packages (from tensorflow-datasets) (0.3.1.1)\n",
            "Requirement already satisfied: tensorflow-metadata in /usr/local/lib/python3.6/dist-packages (from tensorflow-datasets) (0.15.1)\n",
            "Requirement already satisfied: future in /usr/local/lib/python3.6/dist-packages (from tensorflow-datasets) (0.16.0)\n",
            "Requirement already satisfied: requests>=2.19.0 in /usr/local/lib/python3.6/dist-packages (from tensorflow-datasets) (2.21.0)\n",
            "Requirement already satisfied: termcolor in /usr/local/lib/python3.6/dist-packages (from tensorflow-datasets) (1.1.0)\n",
            "Requirement already satisfied: wrapt in /usr/local/lib/python3.6/dist-packages (from tensorflow-datasets) (1.11.2)\n",
            "Requirement already satisfied: six in /usr/local/lib/python3.6/dist-packages (from tensorflow-datasets) (1.12.0)\n",
            "Requirement already satisfied: protobuf>=3.6.1 in /usr/local/lib/python3.6/dist-packages (from tensorflow-datasets) (3.10.0)\n",
            "Requirement already satisfied: attrs in /usr/local/lib/python3.6/dist-packages (from tensorflow-datasets) (19.3.0)\n",
            "Requirement already satisfied: googleapis-common-protos in /usr/local/lib/python3.6/dist-packages (from tensorflow-metadata->tensorflow-datasets) (1.6.0)\n",
            "Requirement already satisfied: idna<2.9,>=2.5 in /usr/local/lib/python3.6/dist-packages (from requests>=2.19.0->tensorflow-datasets) (2.8)\n",
            "Requirement already satisfied: chardet<3.1.0,>=3.0.2 in /usr/local/lib/python3.6/dist-packages (from requests>=2.19.0->tensorflow-datasets) (3.0.4)\n",
            "Requirement already satisfied: certifi>=2017.4.17 in /usr/local/lib/python3.6/dist-packages (from requests>=2.19.0->tensorflow-datasets) (2019.11.28)\n",
            "Requirement already satisfied: urllib3<1.25,>=1.21.1 in /usr/local/lib/python3.6/dist-packages (from requests>=2.19.0->tensorflow-datasets) (1.24.3)\n",
            "Requirement already satisfied: setuptools in /usr/local/lib/python3.6/dist-packages (from protobuf>=3.6.1->tensorflow-datasets) (42.0.2)\n"
          ],
          "name": "stdout"
        }
      ]
    },
    {
      "cell_type": "code",
      "metadata": {
        "id": "QGF7kYWC_goG",
        "colab_type": "code",
        "colab": {}
      },
      "source": [
        "from __future__ import absolute_import, division, print_function, unicode_literals\n",
        "\n",
        "import tensorflow as tf\n",
        "\n",
        "tf.compat.v1.enable_eager_execution()\n",
        "\n",
        "import tensorflow_datasets as tfds\n",
        "\n",
        "# Downloading the data using tensorflow-datasets\n",
        "dataset, info = tfds.load('imdb_reviews/subwords8k', with_info=True, as_supervised=True)\n",
        "train_dataset, test_dataset = dataset['train'], dataset['test']\n"
      ],
      "execution_count": 0,
      "outputs": []
    },
    {
      "cell_type": "markdown",
      "metadata": {
        "id": "_JehNwnsCNou",
        "colab_type": "text"
      },
      "source": [
        "### Embedding the data\n",
        "\n",
        "Text by itself is not a good representation for ML algorithms since they expect vector inputs. There are multiple way we can choose to transform text as a vector. The simplest method would be to create a dictionary of all the words in the english language and encode a word as one-hot vector where we have a 1 at it's position in that dictionary, however, this results in very sparse matrices and we wouldn't be able to give any information about that word if it's not in the dictionary (eg. hellooo).\n",
        "\n",
        "In this example, the dataset is already encoded using a variant of \"Byte-pair encoding\". \n",
        "\n",
        "#### Byte-Pair Encodings\n",
        "To build a BPE, follow these steps:\n",
        "\n",
        "initial vocabulary: $low:5$, $lowest:2$, $newer: 6$, $wider: 3$\n",
        "\n",
        "1.   Start with the end of words and add a token $</w>$\n",
        "2.   List all of the possible n-grams subword and count their occurences: $r</w>: 9$, $er</w>$, $lo:7$, $low:7$, ... \n",
        "3.   Keep the N most common subwords \n",
        "4.   You can now encode a word you have never seen before using those subwords: e.g. $lower: low\\_er$\n",
        "\n",
        "A very popular approach of byte-pair encoding is given in: https://arxiv.org/abs/1808.06226.\n"
      ]
    },
    {
      "cell_type": "code",
      "metadata": {
        "id": "EluvaAKdCWem",
        "colab_type": "code",
        "colab": {
          "base_uri": "https://localhost:8080/",
          "height": 153
        },
        "outputId": "51906e98-27fd-491a-df3e-44fc23e0d421"
      },
      "source": [
        "# The encoder used for this dataset is available in the `info` variable\n",
        "\n",
        "encoder = info.features['text'].encoder\n",
        "\n",
        "sample_string = 'Hello, world.'\n",
        "\n",
        "\n",
        "encoded_string = encoder.encode(sample_string)\n",
        "original_string = encoder.decode(encoded_string)\n",
        "print ('The original string: \"{}\"'.format(original_string))\n",
        "print ('Encoded string is {}'.format(encoded_string))\n",
        "\n",
        "# Number of \"subwords\"\n",
        "print ('Vocabulary size (number of subwords): {} '.format(encoder.vocab_size))\n",
        "\n",
        "for index in encoded_string:\n",
        "  print ('{} ----> {}'.format(index, encoder.decode([index])))"
      ],
      "execution_count": 6,
      "outputs": [
        {
          "output_type": "stream",
          "text": [
            "The original string: \"Hello, world.\"\n",
            "Encoded string is [4025, 8040, 2, 562, 7975]\n",
            "Vocabulary size (number of subwords): 8185 \n",
            "4025 ----> Hell\n",
            "8040 ----> o\n",
            "2 ----> , \n",
            "562 ----> world\n",
            "7975 ----> .\n"
          ],
          "name": "stdout"
        }
      ]
    },
    {
      "cell_type": "markdown",
      "metadata": {
        "id": "nlGt1d4EMRKi",
        "colab_type": "text"
      },
      "source": [
        "### What does our data look like?"
      ]
    },
    {
      "cell_type": "code",
      "metadata": {
        "id": "Pd21vTcFQN_6",
        "colab_type": "code",
        "colab": {
          "base_uri": "https://localhost:8080/",
          "height": 717
        },
        "outputId": "9661fcdb-ddbf-47e8-a3c9-0aafcafe8223"
      },
      "source": [
        "for data in train_dataset.take(10):\n",
        "  print(f'Encoded data: {data[0][:10]} (truncated up to the 10th character)')\n",
        "  print(f'Decoded data: {encoder.decode(data[0])}')\n",
        "  print(f'Label: {data[1]}')\n",
        "  print(f'Shape: {data[0].shape}')"
      ],
      "execution_count": 7,
      "outputs": [
        {
          "output_type": "stream",
          "text": [
            "Encoded data: [ 249    4  277  309  560    6 6639 4574    2   12] (truncated up to the 10th character)\n",
            "Decoded data: As a lifelong fan of Dickens, I have invariably been disappointed by adaptations of his novels.<br /><br />Although his works presented an extremely accurate re-telling of human life at every level in Victorian Britain, throughout them all was a pervasive thread of humour that could be both playful or sarcastic as the narrative dictated. In a way, he was a literary caricaturist and cartoonist. He could be serious and hilarious in the same sentence. He pricked pride, lampooned arrogance, celebrated modesty, and empathised with loneliness and poverty. It may be a cliché, but he was a people's writer.<br /><br />And it is the comedy that is so often missing from his interpretations. At the time of writing, Oliver Twist is being dramatised in serial form on BBC television. All of the misery and cruelty is their, but non of the humour, irony, and savage lampoonery. The result is just a dark, dismal experience: the story penned by a journalist rather than a novelist. It's not really Dickens at all.<br /><br />'Oliver!', on the other hand, is much closer to the mark. The mockery of officialdom is perfectly interpreted, from the blustering beadle to the drunken magistrate. The classic stand-off between the beadle and Mr Brownlow, in which the law is described as 'a ass, a idiot' couldn't have been better done. Harry Secombe is an ideal choice.<br /><br />But the blinding cruelty is also there, the callous indifference of the state, the cold, hunger, poverty and loneliness are all presented just as surely as The Master would have wished.<br /><br />And then there is crime. Ron Moody is a treasure as the sleazy Jewish fence, whilst Oliver Reid has Bill Sykes to perfection.<br /><br />Perhaps not surprisingly, Lionel Bart - himself a Jew from London's east-end - takes a liberty with Fagin by re-interpreting him as a much more benign fellow than was Dicken's original. In the novel, he was utterly ruthless, sending some of his own boys to the gallows in order to protect himself (though he was also caught and hanged). Whereas in the movie, he is presented as something of a wayward father-figure, a sort of charitable thief rather than a corrupter of children, the latter being a long-standing anti-semitic sentiment. Otherwise, very few liberties are taken with Dickens's original. All of the most memorable elements are included. Just enough menace and violence is retained to ensure narrative fidelity whilst at the same time allowing for children' sensibilities. Nancy is still beaten to death, Bullseye narrowly escapes drowning, and Bill Sykes gets a faithfully graphic come-uppance.<br /><br />Every song is excellent, though they do incline towards schmaltz. Mark Lester mimes his wonderfully. Both his and my favourite scene is the one in which the world comes alive to 'who will buy'. It's schmaltzy, but it's Dickens through and through.<br /><br />I could go on. I could commend the wonderful set-pieces, the contrast of the rich and poor. There is top-quality acting from more British regulars than you could shake a stick at.<br /><br />I ought to give it 10 points, but I'm feeling more like Scrooge today. Soak it up with your Christmas dinner. No original has been better realised.\n",
            "Label: 1\n",
            "Shape: (855,)\n",
            "Encoded data: [2080 4956   90 7174    4 4669  190   25  162   15] (truncated up to the 10th character)\n",
            "Decoded data: Oh yeah! Jenna Jameson did it again! Yeah Baby! This movie rocks. It was one of the 1st movies i saw of her. And i have to say i feel in love with her, she was great in this move.<br /><br />Her performance was outstanding and what i liked the most was the scenery and the wardrobe it was amazing you can tell that they put a lot into the movie the girls cloth were amazing.<br /><br />I hope this comment helps and u can buy the movie, the storyline is awesome is very unique and i'm sure u are going to like it. Jenna amazed us once more and no wonder the movie won so many awards. Her make-up and wardrobe is very very sexy and the girls on girls scene is amazing. specially the one where she looks like an angel. It's a must see and i hope u share my interests\n",
            "Label: 1\n",
            "Shape: (194,)\n",
            "Encoded data: [  12  284   14   32   25 1975   49 7079   28   73] (truncated up to the 10th character)\n",
            "Decoded data: I saw this film on True Movies (which automatically made me sceptical) but actually - it was good. Why? Not because of the amazing plot twists or breathtaking dialogue (of which there is little) but because actually, despite what people say I thought the film was accurate in it's depiction of teenagers dealing with pregnancy.<br /><br />It's NOT Dawson's Creek, they're not graceful, cool witty characters who breeze through sexuality with effortless knowledge. They're kids and they act like kids would. <br /><br />They're blunt, awkward and annoyingly confused about everything. Yes, this could be by accident and they could just be bad actors but I don't think so. Dermot Mulroney gives (when not trying to be cool) a very believable performance and I loved him for it. Patricia Arquette IS whiny and annoying, but she was pregnant and a teenagers? The combination of the two isn't exactly lavender on your pillow. The plot was VERY predictable and but so what? I believed them, his stress and inability to cope - her brave, yet slightly misguided attempts to bring them closer together. I think the characters, acted by anyone else, WOULD indeed have been annoying and unbelievable but they weren't. It reflects the surreality of the situation they're in, that he's sitting in class and she walks on campus with the baby. I felt angry at her for that, I felt angry at him for being such a child and for blaming her. I felt it all.<br /><br />In the end, I loved it and would recommend it.<br /><br />Watch out for the scene where Dermot Mulroney runs from the disastrous counselling session - career performance.\n",
            "Label: 1\n",
            "Shape: (408,)\n",
            "Encoded data: [  62   18    4 4518 2920    5  966   27   13   12] (truncated up to the 10th character)\n",
            "Decoded data: This was a wonderfully clever and entertaining movie that I shall never tire of watching many, many times. The casting was magnificent in matching up the young with the older characters. There are those of us out here who really do appreciate good actors and an intelligent story format. As for Judi Dench, she is beautiful and a gift to any kind of production in which she stars. I always make a point to see Judi Dench in all her performances. She is a superb actress and a pleasure to watch as each transformation of her character comes to life. I can only be grateful when I see such an outstanding picture for most of the motion pictures made more recently lack good characters, good scripts and good acting. The movie public needs heroes, not deviant manikins, who lack ingenuity and talent. How wonderful to see old favorites like Leslie Caron, Olympia Dukakis and Cleo Laine. I would like to see this movie win the awards it deserves. Thank you again for a tremendous night of entertainment. I congratulate the writer, director, producer, and all those who did such a fine job.\n",
            "Label: 1\n",
            "Shape: (248,)\n",
            "Encoded data: [  12   31   84  480   71    1  108 7748    9 1130] (truncated up to the 10th character)\n",
            "Decoded data: I have no idea what the other reviewer is talking about- this was a wonderful movie, and created a sense of the era that feels like time travel. The characters are truly young, Mary is a strong match for Byron, Claire is juvenile and a tad annoying, Polidori is a convincing beaten-down sycophant... all are beautiful, curious, and decadent... not the frightening wrecks they are in Gothic.<br /><br />Gothic works as an independent piece of shock film, and I loved it for different reasons, but this works like a Merchant and Ivory film, and was from my readings the best capture of what the summer must have felt like. Romantic, yes, but completely rekindles my interest in the lives of Shelley and Byron every time I think about the film. One of my all-time favorites.\n",
            "Label: 1\n",
            "Shape: (193,)\n",
            "Encoded data: [  62   18 3948 7974 6048  100   90   12  258   41] (truncated up to the 10th character)\n",
            "Decoded data: This was soul-provoking! I am an Iranian, and living in th 21st century, I didn't know that such big tribes have been living in such conditions at the time of my grandfather!<br /><br />You see that today, or even in 1925, on one side of the world a lady or a baby could have everything served for him or her clean and on-demand, but here 80 years ago, people ventured their life to go to somewhere with more grass. It's really interesting that these Persians bear those difficulties to find pasture for their sheep, but they lose many the sheep on their way.<br /><br />I praise the Americans who accompanied this tribe, they were as tough as Bakhtiari people.\n",
            "Label: 1\n",
            "Shape: (177,)\n",
            "Encoded data: [768  99 416   9 733   1 626   6 467 159] (truncated up to the 10th character)\n",
            "Decoded data: Just because someone is under the age of 10 does not mean they are stupid. If your child likes this film you'd better have him/her tested. I am continually amazed at how so many people can be involved in something that turns out so bad. This \"film\" is a showcase for digital wizardry AND NOTHING ELSE. The writing is horrid. I can't remember when I've heard such bad dialogue. The songs are beyond wretched. The acting is sub-par but then the actors were not given much. Who decided to employ Joey Fatone? He cannot sing and he is ugly as sin.<br /><br />The worst thing is the obviousness of it all. It is as if the writers went out of their way to make it all as stupid as possible. Great children's movies are wicked, smart and full of wit - films like Shrek and Toy Story in recent years, Willie Wonka and The Witches to mention two of the past. But in the continual dumbing-down of American more are flocking to dreck like Finding Nemo (yes, that's right), the recent Charlie & The Chocolate Factory and eye-crossing trash like Red Riding Hood.\n",
            "Label: 0\n",
            "Shape: (280,)\n",
            "Encoded data: [  12  604 1694 4406  797   14   27   72   12   18] (truncated up to the 10th character)\n",
            "Decoded data: I absolutely LOVED this movie when I was a kid. I cried every time I watched it. It wasn't weird to me. I totally identified with the characters. I would love to see it again (and hope I wont be disappointed!). Pufnstuf rocks!!!! I was really drawn in to the fantasy world. And to me the movie was loooong. I wonder if I ever saw the series and have confused them? The acting I thought was strong. I loved Jack Wilde. He was so dreamy to an 10 year old (when I first saw the movie, not in 1970. I can still remember the characters vividly. The flute was totally believable and I can still 'feel' the evil woods. Witchy poo was scary - I wouldn't want to cross her path.\n",
            "Label: 1\n",
            "Shape: (177,)\n",
            "Encoded data: [ 133   67 1011    5 5225 7961 1482 2252  755    6] (truncated up to the 10th character)\n",
            "Decoded data: A very close and sharp discription of the bubbling and dynamic emotional world of specialy one 18year old guy, that makes his first experiences in his gay love to an other boy, during an vacation with a part of his family.<br /><br />I liked this film because of his extremly clear and surrogated storytelling , with all this \"Sound-close-ups\" and quiet moments wich had been full of intensive moods.<br /><br />\n",
            "Label: 1\n",
            "Shape: (106,)\n",
            "Encoded data: [  62    9    1  107 5827 7961   32   12   31  160] (truncated up to the 10th character)\n",
            "Decoded data: This is the most depressing film I have ever seen. I first saw it as a child and even thinking about it now really upsets me. I know it was set in a time when life was hard and I know these people were poor and the crops were vital. Yes, I get all that. What I find hard to take is I can't remember one single light moment in the entire film. Maybe it was true to life, I don't know. I'm quite sure the acting was top notch and the direction and quality of filming etc etc was wonderful and I know that every film can't have a happy ending but as a family film it is dire in my opinion.<br /><br />I wouldn't recommend it to anyone who wants to be entertained by a film. I can't stress enough how this film affected me as a child. I was talking about it recently and all the sad memories came flooding back. I think it would have all but the heartless reaching for the Prozac.\n",
            "Label: 0\n",
            "Shape: (222,)\n"
          ],
          "name": "stdout"
        }
      ]
    },
    {
      "cell_type": "markdown",
      "metadata": {
        "id": "WvfSIOuXSZPU",
        "colab_type": "text"
      },
      "source": [
        "### Padding the data\n",
        "\n",
        "At the moment, each row in our dataset has a different length. In practice, it's a good thing to fix that length. To do that, we will pad the dataset with 0s with the length of the longest row.\n"
      ]
    },
    {
      "cell_type": "code",
      "metadata": {
        "id": "z3xMkBqqTFxg",
        "colab_type": "code",
        "colab": {}
      },
      "source": [
        "# See https://stackoverflow.com/questions/46444018/meaning-of-buffer-size-in-dataset-map-dataset-prefetch-and-dataset-shuffle\n",
        "# For an explanation on buffer_size. The following code creates a pipeline that will feed our model\n",
        "# batches of size BATCH_SIZE from the training and testing datasets\n",
        "\n",
        "BATCH_SIZE = 64\n",
        "BUFFER_SIZE = 10000\n",
        "\n",
        "train_dataset = train_dataset.shuffle(BUFFER_SIZE)\n",
        "train_dataset = train_dataset.padded_batch(BATCH_SIZE, tf.compat.v1.data.get_output_shapes(train_dataset))\n",
        "test_dataset = test_dataset.padded_batch(BATCH_SIZE, tf.compat.v1.data.get_output_shapes(test_dataset))"
      ],
      "execution_count": 0,
      "outputs": []
    },
    {
      "cell_type": "markdown",
      "metadata": {
        "id": "nabhFXBXXTaO",
        "colab_type": "text"
      },
      "source": [
        "### Creating our Model\n",
        "\n",
        "The model is illustrated in the following picture, we use a bidirectional recurrent neural network to capture the information from the whole sentence. Because words in a sentences can have dependencies from everywhere in the sentence (not just before them).\n",
        "\n",
        "![](https://drive.google.com/uc?id=1yZWleHpX7xFJJ-Sd-7CaqRbkE5YYWtnV)\n"
      ]
    },
    {
      "cell_type": "code",
      "metadata": {
        "id": "_j75Qly8nK69",
        "colab_type": "code",
        "colab": {
          "base_uri": "https://localhost:8080/",
          "height": 391
        },
        "outputId": "9c86b35b-8473-4b28-94e0-376591582b0c"
      },
      "source": [
        "rnn = tf.keras.Sequential([\n",
        "    tf.keras.layers.Embedding(encoder.vocab_size, 64),\n",
        "    tf.keras.layers.Bidirectional(tf.keras.layers.SimpleRNN(64)),\n",
        "    tf.keras.layers.Dense(64, activation='relu'),\n",
        "    tf.keras.layers.Dense(1, activation='sigmoid')\n",
        "])\n",
        "\n",
        "rnn.compile(loss='binary_crossentropy',\n",
        "              optimizer=tf.keras.optimizers.Adam(1e-4),\n",
        "              metrics=['accuracy'])\n",
        "\n",
        "history = rnn.fit(train_dataset, epochs=10,\n",
        "                    validation_data=test_dataset,\n",
        "                    validation_steps=30)\n",
        "\n",
        "test_loss, test_acc = rnn.evaluate(test_dataset)\n",
        "\n",
        "print('Test Loss: {}'.format(test_loss))\n",
        "print('Test Accuracy: {}'.format(test_acc))\n"
      ],
      "execution_count": 9,
      "outputs": [
        {
          "output_type": "stream",
          "text": [
            "Epoch 1/10\n",
            "391/391 [==============================] - 442s 1s/step - loss: 0.6925 - accuracy: 0.5123 - val_loss: 0.6888 - val_accuracy: 0.5250\n",
            "Epoch 2/10\n",
            "391/391 [==============================] - 444s 1s/step - loss: 0.5891 - accuracy: 0.7127 - val_loss: 0.4457 - val_accuracy: 0.8135\n",
            "Epoch 3/10\n",
            "391/391 [==============================] - 444s 1s/step - loss: 0.3677 - accuracy: 0.8501 - val_loss: 0.3748 - val_accuracy: 0.8557\n",
            "Epoch 4/10\n",
            "391/391 [==============================] - 447s 1s/step - loss: 0.2895 - accuracy: 0.8885 - val_loss: 0.3437 - val_accuracy: 0.8656\n",
            "Epoch 5/10\n",
            "391/391 [==============================] - 452s 1s/step - loss: 0.2158 - accuracy: 0.9226 - val_loss: 0.3271 - val_accuracy: 0.8766\n",
            "Epoch 6/10\n",
            "391/391 [==============================] - 453s 1s/step - loss: 0.1806 - accuracy: 0.9378 - val_loss: 0.3504 - val_accuracy: 0.8693\n",
            "Epoch 7/10\n",
            "391/391 [==============================] - 456s 1s/step - loss: 0.1392 - accuracy: 0.9545 - val_loss: 0.3658 - val_accuracy: 0.8604\n",
            "Epoch 8/10\n",
            "391/391 [==============================] - 457s 1s/step - loss: 0.1112 - accuracy: 0.9654 - val_loss: 0.4094 - val_accuracy: 0.8578\n",
            "Epoch 9/10\n",
            "391/391 [==============================] - 454s 1s/step - loss: 0.0776 - accuracy: 0.9768 - val_loss: 0.4408 - val_accuracy: 0.8552\n",
            "Epoch 10/10\n",
            "391/391 [==============================] - 446s 1s/step - loss: 0.0528 - accuracy: 0.9862 - val_loss: 0.4930 - val_accuracy: 0.8464\n",
            "    391/Unknown - 81s 207ms/step - loss: 0.5295 - accuracy: 0.8344Test Loss: 0.5295045492822862\n",
            "Test Accuracy: 0.8344399929046631\n"
          ],
          "name": "stdout"
        }
      ]
    },
    {
      "cell_type": "markdown",
      "metadata": {
        "id": "xs5j549gr1Yh",
        "colab_type": "text"
      },
      "source": [
        "### Exploding/Vanishing Gradient\n",
        "\n",
        "Recall that the formula for RNN is given by:\n",
        "\n",
        "$h_t = tanh(W x_t + U h_{t-1})$ and $\\hat{y_t} = softmax(V h_t) $\n",
        "\n",
        "The loss is given by:\n",
        "\n",
        "$L(y_t, \\hat{y_t}) = - y_t log(\\hat{y_t})$\n",
        "\n",
        "For a sequence of $T$ steps, the total loss is then given by the sum:\n",
        "\n",
        "$L(y_T, \\hat{y_T}) = \\sum_{t=1}^{T}L(y_t, \\hat{y_t})$\n",
        "\n",
        "When we take the gradient with respect to the weights we get:\n",
        "\n",
        "$\\frac{\\partial L}{\\partial W} = \\frac{\\partial L}{\\partial y_T}\\frac{\\partial y_T}{\\partial h_T}\\frac{\\partial h_T}{\\partial h_{T-1}}...\\frac{\\partial h_2}{\\partial h_1}\\frac{\\partial h_1}{\\partial W} $\n",
        "\n",
        "Therefore, when $\\frac{\\partial h_t}{\\partial h_{t-1}}$ is small (or big) our gradient vanish (explode). [This paper](https://arxiv.org/pdf/1211.5063.pdf) give exact conditions for when this happen."
      ]
    },
    {
      "cell_type": "markdown",
      "metadata": {
        "id": "LZ5eshEWpcek",
        "colab_type": "text"
      },
      "source": [
        "### Long Short-Term Memory (LSTM) Networks\n",
        "\n",
        "LSTMs have 3 gates:\n",
        "\n",
        "*   Forget gate: $F_t= \\sigma(W^f [h_{t-1}, x_t])$\n",
        "*   Input gate: $I_t= \\sigma(W^i [h_{t-1}, x_t])$\n",
        "*   Output gate: $O_t= \\sigma(W^o [h_{t-1}, x_t])$\n",
        "\n",
        "A cell state:\n",
        "\n",
        "*   $\\tilde{C_t} = tanh(W^C [h_{t-1}, x_t])$\n",
        "*   $C_t = F_t C_{t-1} + I_t \\tilde{C_t}$\n",
        "\n",
        "And the outputs are given by:\n",
        "\n",
        "*   $o_t = O_t tanh(C_t)$\n",
        "\n",
        "\n",
        "\n",
        "TLDR: There is a path with no vanishing/exploding term passing through the forget gate. Therefore, there is at least one path that will propagate the gradient. \n",
        "\n",
        "https://d-nb.info/1082034037/34\n",
        "\n",
        "![](https://drive.google.com/uc?id=1T4ea91weNsiNzkYuKMWX5oL10KBtMk0w)\n",
        "\n",
        "\n",
        "\n"
      ]
    },
    {
      "cell_type": "code",
      "metadata": {
        "id": "QoubkMGwr1Db",
        "colab_type": "code",
        "colab": {
          "base_uri": "https://localhost:8080/",
          "height": 391
        },
        "outputId": "24478f2a-4573-4a94-95c8-61a0d99b3eb2"
      },
      "source": [
        "lstm = tf.keras.Sequential([\n",
        "    tf.keras.layers.Embedding(encoder.vocab_size, 64),\n",
        "    tf.keras.layers.Bidirectional(tf.keras.layers.LSTM(64)),\n",
        "    tf.keras.layers.Dense(64, activation='relu'),\n",
        "    tf.keras.layers.Dense(1, activation='sigmoid')\n",
        "])\n",
        "\n",
        "lstm.compile(loss='binary_crossentropy',\n",
        "              optimizer=tf.keras.optimizers.Adam(1e-4),\n",
        "              metrics=['accuracy'])\n",
        "\n",
        "\n",
        "history = lstm.fit(train_dataset, epochs=10,\n",
        "                    validation_data=test_dataset,\n",
        "                    validation_steps=30)\n",
        "\n",
        "test_loss, test_acc = lstm.evaluate(test_dataset)\n",
        "\n",
        "print('Test Loss: {}'.format(test_loss))\n",
        "print('Test Accuracy: {}'.format(test_acc))\n"
      ],
      "execution_count": 10,
      "outputs": [
        {
          "output_type": "stream",
          "text": [
            "Epoch 1/10\n",
            "391/391 [==============================] - 904s 2s/step - loss: 0.6668 - accuracy: 0.5927 - val_loss: 0.5448 - val_accuracy: 0.7547\n",
            "Epoch 2/10\n",
            "391/391 [==============================] - 952s 2s/step - loss: 0.4445 - accuracy: 0.8081 - val_loss: 0.3849 - val_accuracy: 0.8260\n",
            "Epoch 3/10\n",
            "391/391 [==============================] - 950s 2s/step - loss: 0.2932 - accuracy: 0.8861 - val_loss: 0.3219 - val_accuracy: 0.8698\n",
            "Epoch 4/10\n",
            "391/391 [==============================] - 944s 2s/step - loss: 0.2360 - accuracy: 0.9133 - val_loss: 0.3076 - val_accuracy: 0.8807\n",
            "Epoch 5/10\n",
            "391/391 [==============================] - 942s 2s/step - loss: 0.1977 - accuracy: 0.9310 - val_loss: 0.3157 - val_accuracy: 0.8771\n",
            "Epoch 6/10\n",
            "391/391 [==============================] - 1112s 3s/step - loss: 0.1762 - accuracy: 0.9403 - val_loss: 0.3338 - val_accuracy: 0.8797\n",
            "Epoch 7/10\n",
            "391/391 [==============================] - 1120s 3s/step - loss: 0.1599 - accuracy: 0.9471 - val_loss: 0.3463 - val_accuracy: 0.8755\n",
            "Epoch 8/10\n",
            "391/391 [==============================] - 1115s 3s/step - loss: 0.1428 - accuracy: 0.9540 - val_loss: 0.3473 - val_accuracy: 0.8693\n",
            "Epoch 9/10\n",
            "391/391 [==============================] - 1105s 3s/step - loss: 0.1426 - accuracy: 0.9531 - val_loss: 0.3731 - val_accuracy: 0.8724\n",
            "Epoch 10/10\n",
            "391/391 [==============================] - 1124s 3s/step - loss: 0.1234 - accuracy: 0.9611 - val_loss: 0.3717 - val_accuracy: 0.8661\n",
            "    391/Unknown - 202s 517ms/step - loss: 0.3914 - accuracy: 0.8587Test Loss: 0.3914450703145903\n",
            "Test Accuracy: 0.858680009841919\n"
          ],
          "name": "stdout"
        }
      ]
    },
    {
      "cell_type": "markdown",
      "metadata": {
        "id": "UPTGnCaKHVjA",
        "colab_type": "text"
      },
      "source": [
        "### Attention\n",
        "\n",
        "Not every word in a text contribute equally to the classification. The intuition behind attention mechanism is that is provides us with a way to \"weight\" each word.\n",
        "\n",
        "The implementation of attention we're using is from [this paper](https://www.cc.gatech.edu/~dyang888/docs/naacl16.pdf).\n",
        "\n",
        "We add an attention layer on top of the bidirectional LSTM, we get:\n",
        "\n",
        "*   A representation of the output of the LSTM at each time step: $u_i = tanh(W o_i + b)$\n",
        "*   The weights of each word: $\\alpha_i = \\frac{u_i u_w}{\\sum_t u_t u_w}$ (softmax layer so this sums to 1)\n",
        "*   The sentence vector: $s = \\sum_i \\alpha_i o_i$ \n",
        "\n",
        "In our model, we pass the sentence vector $s$ to the MLP before doing the classification.\n"
      ]
    },
    {
      "cell_type": "code",
      "metadata": {
        "id": "4UxaGz_jwUN8",
        "colab_type": "code",
        "colab": {
          "base_uri": "https://localhost:8080/",
          "height": 391
        },
        "outputId": "96af9007-1823-421e-f63a-0b202d9f2e0c"
      },
      "source": [
        "import tensorflow as tf\n",
        "\n",
        "\n",
        "def dot_product(x, kernel):\n",
        "    \"\"\"\n",
        "    Wrapper for dot product operation, in order to be compatible with both\n",
        "    Theano and Tensorflow\n",
        "    Args:\n",
        "        x (): input\n",
        "        kernel (): weights\n",
        "    Returns:\n",
        "    \"\"\"\n",
        "    return tf.squeeze(tf.keras.backend.dot(x, tf.expand_dims(kernel, axis=-1)), axis=-1)\n",
        "\n",
        "\n",
        "class AttentionWithContext(tf.keras.layers.Layer):\n",
        "    \"\"\"\n",
        "    Taken from: https://towardsdatascience.com/nlp-learning-series-part-3-attention-cnn-and-what-not-for-text-classification-4313930ed566\n",
        "    \n",
        "    Attention operation, with a context/query vector, for temporal data.\n",
        "    Supports Masking.\n",
        "    Follows the work of Yang et al. [https://www.cs.cmu.edu/~diyiy/docs/naacl16.pdf]\n",
        "    \"Hierarchical Attention Networks for Document Classification\"\n",
        "    by using a context vector to assist the attention\n",
        "    # Input shape\n",
        "        3D tensor with shape: `(samples, steps, features)`.\n",
        "    # Output shape\n",
        "        2D tensor with shape: `(samples, features)`.\n",
        "    How to use:\n",
        "    Just put it on top of an RNN Layer (GRU/LSTM/SimpleRNN) with return_sequences=True.\n",
        "    The dimensions are inferred based on the output shape of the RNN.\n",
        "    Note: The layer has been tested with Keras 2.0.6\n",
        "    Example:\n",
        "        model.add(LSTM(64, return_sequences=True))\n",
        "        model.add(AttentionWithContext())\n",
        "        # next add a Dense layer (for classification/regression) or whatever...\n",
        "    \"\"\"\n",
        "\n",
        "    def __init__(self,\n",
        "                 W_regularizer=None, u_regularizer=None, b_regularizer=None,\n",
        "                 W_constraint=None, u_constraint=None, b_constraint=None,\n",
        "                 bias=True, **kwargs):\n",
        "\n",
        "        self.supports_masking = True\n",
        "        self.init = tf.keras.initializers.get('glorot_uniform')\n",
        "\n",
        "        self.W_regularizer = tf.keras.regularizers.get(W_regularizer)\n",
        "        self.u_regularizer = tf.keras.regularizers.get(u_regularizer)\n",
        "        self.b_regularizer = tf.keras.regularizers.get(b_regularizer)\n",
        "\n",
        "        self.W_constraint = tf.keras.constraints.get(W_constraint)\n",
        "        self.u_constraint = tf.keras.constraints.get(u_constraint)\n",
        "        self.b_constraint = tf.keras.constraints.get(b_constraint)\n",
        "\n",
        "        self.bias = bias\n",
        "        super(AttentionWithContext, self).__init__(**kwargs)\n",
        "\n",
        "    def build(self, input_shape):\n",
        "        assert len(input_shape) == 3\n",
        "\n",
        "        self.W = self.add_weight(shape=(input_shape[-1], input_shape[-1],),\n",
        "                                 initializer=self.init,\n",
        "                                 name='{}_W'.format(self.name),\n",
        "                                 regularizer=self.W_regularizer,\n",
        "                                 constraint=self.W_constraint)\n",
        "        if self.bias:\n",
        "            self.b = self.add_weight(shape=(input_shape[-1],),\n",
        "                                     initializer='zero',\n",
        "                                     name='{}_b'.format(self.name),\n",
        "                                     regularizer=self.b_regularizer,\n",
        "                                     constraint=self.b_constraint)\n",
        "\n",
        "        self.u = self.add_weight(shape=(input_shape[-1],),\n",
        "                                 initializer=self.init,\n",
        "                                 name='{}_u'.format(self.name),\n",
        "                                 regularizer=self.u_regularizer,\n",
        "                                 constraint=self.u_constraint)\n",
        "\n",
        "        super(AttentionWithContext, self).build(input_shape)\n",
        "\n",
        "    def compute_mask(self, input, input_mask=None):\n",
        "        # do not pass the mask to the next layers\n",
        "        return None\n",
        "\n",
        "    def call(self, x, mask=None):\n",
        "\n",
        "        # hidden representation of the output of the LSTM:\n",
        "        uit = dot_product(x, self.W)\n",
        "\n",
        "        if self.bias:\n",
        "            uit += self.b\n",
        "\n",
        "        uit = tf.tanh(uit)\n",
        "\n",
        "        # Weights of each word in the sentence \\alpha\n",
        "        ait = dot_product(uit, self.u)\n",
        "\n",
        "        a = tf.exp(ait)\n",
        "\n",
        "        # IGNORE THE MASK:\n",
        "        # apply mask after the exp. will be re-normalized next\n",
        "        # if mask is not None:\n",
        "            # Cast the mask to floatX to avoid float64 upcasting in theano\n",
        "        #     a *= tf.cast(mask, tf.keras.backend.floatx())\n",
        "        # ----------------------------------------------------------------\n",
        "\n",
        "        # in some cases especially in the early stages of training the sum may be almost zero\n",
        "        # and this results in NaN's. A workaround is to add a very small positive number ε to the sum.\n",
        "        # a /= tf.keras.cast(tf.keras.sum(a, axis=1, keepdims=True), tf.keras.floatx())\n",
        "        a /= tf.cast(tf.keras.backend.sum(a, axis=1, keepdims=True) + tf.keras.backend.epsilon(), tf.keras.backend.floatx())\n",
        "\n",
        "        a = tf.expand_dims(a, axis=-1)\n",
        "\n",
        "        # Sentence representation:\n",
        "        weighted_input = x * a\n",
        "        return tf.keras.backend.sum(weighted_input, axis=1)\n",
        "\n",
        "    def compute_output_shape(self, input_shape):\n",
        "        return input_shape[0], input_shape[-1]\n",
        "\n",
        "\n",
        "model = tf.keras.Sequential([\n",
        "    tf.keras.layers.Embedding(encoder.vocab_size, 64),\n",
        "    tf.keras.layers.Bidirectional(tf.keras.layers.LSTM(64, return_sequences=True)),\n",
        "    AttentionWithContext(),\n",
        "    tf.keras.layers.Dense(64, activation='relu'),\n",
        "    tf.keras.layers.Dense(1, activation='sigmoid')\n",
        "])\n",
        "\n",
        "model.compile(loss='binary_crossentropy',\n",
        "              optimizer=tf.keras.optimizers.Adam(1e-4),\n",
        "              metrics=['accuracy'])\n",
        "\n",
        "\n",
        "history = model.fit(train_dataset, epochs=10,\n",
        "                    validation_data=test_dataset,\n",
        "                    validation_steps=30)\n",
        "\n",
        "test_loss, test_acc = model.evaluate(test_dataset)\n",
        "\n",
        "print('Test Loss: {}'.format(test_loss))\n",
        "print('Test Accuracy: {}'.format(test_acc))"
      ],
      "execution_count": 11,
      "outputs": [
        {
          "output_type": "stream",
          "text": [
            "Epoch 1/10\n",
            "391/391 [==============================] - 1036s 3s/step - loss: 0.6799 - accuracy: 0.5449 - val_loss: 0.5560 - val_accuracy: 0.7370\n",
            "Epoch 2/10\n",
            "391/391 [==============================] - 1083s 3s/step - loss: 0.3551 - accuracy: 0.8523 - val_loss: 0.3083 - val_accuracy: 0.8667\n",
            "Epoch 3/10\n",
            "391/391 [==============================] - 1082s 3s/step - loss: 0.2533 - accuracy: 0.9046 - val_loss: 0.3017 - val_accuracy: 0.8719\n",
            "Epoch 4/10\n",
            "391/391 [==============================] - 1063s 3s/step - loss: 0.2018 - accuracy: 0.9275 - val_loss: 0.2893 - val_accuracy: 0.8823\n",
            "Epoch 5/10\n",
            "391/391 [==============================] - 1092s 3s/step - loss: 0.1742 - accuracy: 0.9418 - val_loss: 0.3307 - val_accuracy: 0.8719\n",
            "Epoch 6/10\n",
            "391/391 [==============================] - 1170s 3s/step - loss: 0.1519 - accuracy: 0.9488 - val_loss: 0.3267 - val_accuracy: 0.8698\n",
            "Epoch 7/10\n",
            "391/391 [==============================] - 1291s 3s/step - loss: 0.1636 - accuracy: 0.9441 - val_loss: 0.3209 - val_accuracy: 0.8714\n",
            "Epoch 8/10\n",
            "391/391 [==============================] - 1261s 3s/step - loss: 0.1400 - accuracy: 0.9546 - val_loss: 0.3783 - val_accuracy: 0.8630\n",
            "Epoch 9/10\n",
            "391/391 [==============================] - 1296s 3s/step - loss: 0.1132 - accuracy: 0.9641 - val_loss: 0.4164 - val_accuracy: 0.8547\n",
            "Epoch 10/10\n",
            "391/391 [==============================] - 1290s 3s/step - loss: 0.1009 - accuracy: 0.9710 - val_loss: 0.4302 - val_accuracy: 0.8562\n",
            "    391/Unknown - 248s 635ms/step - loss: 0.4419 - accuracy: 0.8568Test Loss: 0.4419185679282069\n",
            "Test Accuracy: 0.8567600250244141\n"
          ],
          "name": "stdout"
        }
      ]
    },
    {
      "cell_type": "markdown",
      "metadata": {
        "id": "clQ45Ghihkf7",
        "colab_type": "text"
      },
      "source": [
        ""
      ]
    }
  ]
}