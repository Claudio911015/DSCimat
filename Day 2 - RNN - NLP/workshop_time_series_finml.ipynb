{
  "nbformat": 4,
  "nbformat_minor": 0,
  "metadata": {
    "colab": {
      "name": "workshop_time_series_finml.ipynb",
      "provenance": [],
      "collapsed_sections": []
    },
    "kernelspec": {
      "name": "python3",
      "display_name": "Python 3"
    },
    "accelerator": "GPU",
    "widgets": {
      "application/vnd.jupyter.widget-state+json": {
        "65dee93656df40dbbc7449d98ff8708b": {
          "model_module": "@jupyter-widgets/controls",
          "model_name": "HBoxModel",
          "state": {
            "_view_name": "HBoxView",
            "_dom_classes": [],
            "_model_name": "HBoxModel",
            "_view_module": "@jupyter-widgets/controls",
            "_model_module_version": "1.5.0",
            "_view_count": null,
            "_view_module_version": "1.5.0",
            "box_style": "",
            "layout": "IPY_MODEL_b58f03347e5c42f389ae1f84353a99d8",
            "_model_module": "@jupyter-widgets/controls",
            "children": [
              "IPY_MODEL_3ee7f198258f4a1d89ae2e0d14d74790",
              "IPY_MODEL_fbc0990bbd784249932e35655207adfb"
            ]
          }
        },
        "b58f03347e5c42f389ae1f84353a99d8": {
          "model_module": "@jupyter-widgets/base",
          "model_name": "LayoutModel",
          "state": {
            "_view_name": "LayoutView",
            "grid_template_rows": null,
            "right": null,
            "justify_content": null,
            "_view_module": "@jupyter-widgets/base",
            "overflow": null,
            "_model_module_version": "1.2.0",
            "_view_count": null,
            "flex_flow": null,
            "width": null,
            "min_width": null,
            "border": null,
            "align_items": null,
            "bottom": null,
            "_model_module": "@jupyter-widgets/base",
            "top": null,
            "grid_column": null,
            "overflow_y": null,
            "overflow_x": null,
            "grid_auto_flow": null,
            "grid_area": null,
            "grid_template_columns": null,
            "flex": null,
            "_model_name": "LayoutModel",
            "justify_items": null,
            "grid_row": null,
            "max_height": null,
            "align_content": null,
            "visibility": null,
            "align_self": null,
            "height": null,
            "min_height": null,
            "padding": null,
            "grid_auto_rows": null,
            "grid_gap": null,
            "max_width": null,
            "order": null,
            "_view_module_version": "1.2.0",
            "grid_template_areas": null,
            "object_position": null,
            "object_fit": null,
            "grid_auto_columns": null,
            "margin": null,
            "display": null,
            "left": null
          }
        },
        "3ee7f198258f4a1d89ae2e0d14d74790": {
          "model_module": "@jupyter-widgets/controls",
          "model_name": "IntProgressModel",
          "state": {
            "_view_name": "ProgressView",
            "style": "IPY_MODEL_9105be28f5b544748ccd1c5a88934239",
            "_dom_classes": [],
            "description": "Iter: 100, Train MSE: 0.0000, Valid MSE: 0.0000",
            "_model_name": "IntProgressModel",
            "bar_style": "success",
            "max": 100,
            "_view_module": "@jupyter-widgets/controls",
            "_model_module_version": "1.5.0",
            "value": 100,
            "_view_count": null,
            "_view_module_version": "1.5.0",
            "orientation": "horizontal",
            "min": 0,
            "description_tooltip": null,
            "_model_module": "@jupyter-widgets/controls",
            "layout": "IPY_MODEL_08ef2814aa2a4d4cb36dd04ac9a93bef"
          }
        },
        "fbc0990bbd784249932e35655207adfb": {
          "model_module": "@jupyter-widgets/controls",
          "model_name": "HTMLModel",
          "state": {
            "_view_name": "HTMLView",
            "style": "IPY_MODEL_2d6708327f944e4ca18c400cc394a52b",
            "_dom_classes": [],
            "description": "",
            "_model_name": "HTMLModel",
            "placeholder": "​",
            "_view_module": "@jupyter-widgets/controls",
            "_model_module_version": "1.5.0",
            "value": "100% 100/100 [00:18&lt;00:00,  5.36 epoch/s]",
            "_view_count": null,
            "_view_module_version": "1.5.0",
            "description_tooltip": null,
            "_model_module": "@jupyter-widgets/controls",
            "layout": "IPY_MODEL_6c44a75724314ff8aa02032dc9719c37"
          }
        },
        "9105be28f5b544748ccd1c5a88934239": {
          "model_module": "@jupyter-widgets/controls",
          "model_name": "ProgressStyleModel",
          "state": {
            "_view_name": "StyleView",
            "_model_name": "ProgressStyleModel",
            "description_width": "initial",
            "_view_module": "@jupyter-widgets/base",
            "_model_module_version": "1.5.0",
            "_view_count": null,
            "_view_module_version": "1.2.0",
            "bar_color": null,
            "_model_module": "@jupyter-widgets/controls"
          }
        },
        "08ef2814aa2a4d4cb36dd04ac9a93bef": {
          "model_module": "@jupyter-widgets/base",
          "model_name": "LayoutModel",
          "state": {
            "_view_name": "LayoutView",
            "grid_template_rows": null,
            "right": null,
            "justify_content": null,
            "_view_module": "@jupyter-widgets/base",
            "overflow": null,
            "_model_module_version": "1.2.0",
            "_view_count": null,
            "flex_flow": null,
            "width": null,
            "min_width": null,
            "border": null,
            "align_items": null,
            "bottom": null,
            "_model_module": "@jupyter-widgets/base",
            "top": null,
            "grid_column": null,
            "overflow_y": null,
            "overflow_x": null,
            "grid_auto_flow": null,
            "grid_area": null,
            "grid_template_columns": null,
            "flex": null,
            "_model_name": "LayoutModel",
            "justify_items": null,
            "grid_row": null,
            "max_height": null,
            "align_content": null,
            "visibility": null,
            "align_self": null,
            "height": null,
            "min_height": null,
            "padding": null,
            "grid_auto_rows": null,
            "grid_gap": null,
            "max_width": null,
            "order": null,
            "_view_module_version": "1.2.0",
            "grid_template_areas": null,
            "object_position": null,
            "object_fit": null,
            "grid_auto_columns": null,
            "margin": null,
            "display": null,
            "left": null
          }
        },
        "2d6708327f944e4ca18c400cc394a52b": {
          "model_module": "@jupyter-widgets/controls",
          "model_name": "DescriptionStyleModel",
          "state": {
            "_view_name": "StyleView",
            "_model_name": "DescriptionStyleModel",
            "description_width": "",
            "_view_module": "@jupyter-widgets/base",
            "_model_module_version": "1.5.0",
            "_view_count": null,
            "_view_module_version": "1.2.0",
            "_model_module": "@jupyter-widgets/controls"
          }
        },
        "6c44a75724314ff8aa02032dc9719c37": {
          "model_module": "@jupyter-widgets/base",
          "model_name": "LayoutModel",
          "state": {
            "_view_name": "LayoutView",
            "grid_template_rows": null,
            "right": null,
            "justify_content": null,
            "_view_module": "@jupyter-widgets/base",
            "overflow": null,
            "_model_module_version": "1.2.0",
            "_view_count": null,
            "flex_flow": null,
            "width": null,
            "min_width": null,
            "border": null,
            "align_items": null,
            "bottom": null,
            "_model_module": "@jupyter-widgets/base",
            "top": null,
            "grid_column": null,
            "overflow_y": null,
            "overflow_x": null,
            "grid_auto_flow": null,
            "grid_area": null,
            "grid_template_columns": null,
            "flex": null,
            "_model_name": "LayoutModel",
            "justify_items": null,
            "grid_row": null,
            "max_height": null,
            "align_content": null,
            "visibility": null,
            "align_self": null,
            "height": null,
            "min_height": null,
            "padding": null,
            "grid_auto_rows": null,
            "grid_gap": null,
            "max_width": null,
            "order": null,
            "_view_module_version": "1.2.0",
            "grid_template_areas": null,
            "object_position": null,
            "object_fit": null,
            "grid_auto_columns": null,
            "margin": null,
            "display": null,
            "left": null
          }
        },
        "135ac6c7661d4961af222f84c8a547ea": {
          "model_module": "@jupyter-widgets/controls",
          "model_name": "HBoxModel",
          "state": {
            "_view_name": "HBoxView",
            "_dom_classes": [],
            "_model_name": "HBoxModel",
            "_view_module": "@jupyter-widgets/controls",
            "_model_module_version": "1.5.0",
            "_view_count": null,
            "_view_module_version": "1.5.0",
            "box_style": "",
            "layout": "IPY_MODEL_ac1bfd5d4e0e49bab626fae456b286dc",
            "_model_module": "@jupyter-widgets/controls",
            "children": [
              "IPY_MODEL_de0ab7c29f974f56be13b8fb6ffc5d63",
              "IPY_MODEL_37005dbe0940415d9a7ea97642b22239"
            ]
          }
        },
        "ac1bfd5d4e0e49bab626fae456b286dc": {
          "model_module": "@jupyter-widgets/base",
          "model_name": "LayoutModel",
          "state": {
            "_view_name": "LayoutView",
            "grid_template_rows": null,
            "right": null,
            "justify_content": null,
            "_view_module": "@jupyter-widgets/base",
            "overflow": null,
            "_model_module_version": "1.2.0",
            "_view_count": null,
            "flex_flow": null,
            "width": null,
            "min_width": null,
            "border": null,
            "align_items": null,
            "bottom": null,
            "_model_module": "@jupyter-widgets/base",
            "top": null,
            "grid_column": null,
            "overflow_y": null,
            "overflow_x": null,
            "grid_auto_flow": null,
            "grid_area": null,
            "grid_template_columns": null,
            "flex": null,
            "_model_name": "LayoutModel",
            "justify_items": null,
            "grid_row": null,
            "max_height": null,
            "align_content": null,
            "visibility": null,
            "align_self": null,
            "height": null,
            "min_height": null,
            "padding": null,
            "grid_auto_rows": null,
            "grid_gap": null,
            "max_width": null,
            "order": null,
            "_view_module_version": "1.2.0",
            "grid_template_areas": null,
            "object_position": null,
            "object_fit": null,
            "grid_auto_columns": null,
            "margin": null,
            "display": null,
            "left": null
          }
        },
        "de0ab7c29f974f56be13b8fb6ffc5d63": {
          "model_module": "@jupyter-widgets/controls",
          "model_name": "IntProgressModel",
          "state": {
            "_view_name": "ProgressView",
            "style": "IPY_MODEL_57b88e870a144741b5ca94a02ec82286",
            "_dom_classes": [],
            "description": "Iter: 5000, cross-entropy: -1.7723",
            "_model_name": "IntProgressModel",
            "bar_style": "success",
            "max": 5000,
            "_view_module": "@jupyter-widgets/controls",
            "_model_module_version": "1.5.0",
            "value": 5000,
            "_view_count": null,
            "_view_module_version": "1.5.0",
            "orientation": "horizontal",
            "min": 0,
            "description_tooltip": null,
            "_model_module": "@jupyter-widgets/controls",
            "layout": "IPY_MODEL_c280ea7fb776468e857caef00ac62283"
          }
        },
        "37005dbe0940415d9a7ea97642b22239": {
          "model_module": "@jupyter-widgets/controls",
          "model_name": "HTMLModel",
          "state": {
            "_view_name": "HTMLView",
            "style": "IPY_MODEL_bc8e7a6de44e4e8997a6246f6540c3d6",
            "_dom_classes": [],
            "description": "",
            "_model_name": "HTMLModel",
            "placeholder": "​",
            "_view_module": "@jupyter-widgets/controls",
            "_model_module_version": "1.5.0",
            "value": "100% 5000/5000 [01:31&lt;00:00, 62.24 epoch/s]",
            "_view_count": null,
            "_view_module_version": "1.5.0",
            "description_tooltip": null,
            "_model_module": "@jupyter-widgets/controls",
            "layout": "IPY_MODEL_127221a2ca95451b8ff636ce432c7c3e"
          }
        },
        "57b88e870a144741b5ca94a02ec82286": {
          "model_module": "@jupyter-widgets/controls",
          "model_name": "ProgressStyleModel",
          "state": {
            "_view_name": "StyleView",
            "_model_name": "ProgressStyleModel",
            "description_width": "initial",
            "_view_module": "@jupyter-widgets/base",
            "_model_module_version": "1.5.0",
            "_view_count": null,
            "_view_module_version": "1.2.0",
            "bar_color": null,
            "_model_module": "@jupyter-widgets/controls"
          }
        },
        "c280ea7fb776468e857caef00ac62283": {
          "model_module": "@jupyter-widgets/base",
          "model_name": "LayoutModel",
          "state": {
            "_view_name": "LayoutView",
            "grid_template_rows": null,
            "right": null,
            "justify_content": null,
            "_view_module": "@jupyter-widgets/base",
            "overflow": null,
            "_model_module_version": "1.2.0",
            "_view_count": null,
            "flex_flow": null,
            "width": null,
            "min_width": null,
            "border": null,
            "align_items": null,
            "bottom": null,
            "_model_module": "@jupyter-widgets/base",
            "top": null,
            "grid_column": null,
            "overflow_y": null,
            "overflow_x": null,
            "grid_auto_flow": null,
            "grid_area": null,
            "grid_template_columns": null,
            "flex": null,
            "_model_name": "LayoutModel",
            "justify_items": null,
            "grid_row": null,
            "max_height": null,
            "align_content": null,
            "visibility": null,
            "align_self": null,
            "height": null,
            "min_height": null,
            "padding": null,
            "grid_auto_rows": null,
            "grid_gap": null,
            "max_width": null,
            "order": null,
            "_view_module_version": "1.2.0",
            "grid_template_areas": null,
            "object_position": null,
            "object_fit": null,
            "grid_auto_columns": null,
            "margin": null,
            "display": null,
            "left": null
          }
        },
        "bc8e7a6de44e4e8997a6246f6540c3d6": {
          "model_module": "@jupyter-widgets/controls",
          "model_name": "DescriptionStyleModel",
          "state": {
            "_view_name": "StyleView",
            "_model_name": "DescriptionStyleModel",
            "description_width": "",
            "_view_module": "@jupyter-widgets/base",
            "_model_module_version": "1.5.0",
            "_view_count": null,
            "_view_module_version": "1.2.0",
            "_model_module": "@jupyter-widgets/controls"
          }
        },
        "127221a2ca95451b8ff636ce432c7c3e": {
          "model_module": "@jupyter-widgets/base",
          "model_name": "LayoutModel",
          "state": {
            "_view_name": "LayoutView",
            "grid_template_rows": null,
            "right": null,
            "justify_content": null,
            "_view_module": "@jupyter-widgets/base",
            "overflow": null,
            "_model_module_version": "1.2.0",
            "_view_count": null,
            "flex_flow": null,
            "width": null,
            "min_width": null,
            "border": null,
            "align_items": null,
            "bottom": null,
            "_model_module": "@jupyter-widgets/base",
            "top": null,
            "grid_column": null,
            "overflow_y": null,
            "overflow_x": null,
            "grid_auto_flow": null,
            "grid_area": null,
            "grid_template_columns": null,
            "flex": null,
            "_model_name": "LayoutModel",
            "justify_items": null,
            "grid_row": null,
            "max_height": null,
            "align_content": null,
            "visibility": null,
            "align_self": null,
            "height": null,
            "min_height": null,
            "padding": null,
            "grid_auto_rows": null,
            "grid_gap": null,
            "max_width": null,
            "order": null,
            "_view_module_version": "1.2.0",
            "grid_template_areas": null,
            "object_position": null,
            "object_fit": null,
            "grid_auto_columns": null,
            "margin": null,
            "display": null,
            "left": null
          }
        }
      }
    }
  },
  "cells": [
    {
      "cell_type": "code",
      "metadata": {
        "id": "EXQ1QKOv3AQt",
        "colab_type": "code",
        "colab": {}
      },
      "source": [
        "import numpy\n",
        "from matplotlib import pyplot\n",
        "from scipy import stats\n",
        "import torch\n",
        "from torch import nn, optim\n",
        "from torch.distributions.normal import Normal\n",
        "from tqdm import tqdm_notebook\n",
        "from torch.utils.data import DataLoader, TensorDataset"
      ],
      "execution_count": 0,
      "outputs": []
    },
    {
      "cell_type": "markdown",
      "metadata": {
        "id": "_1Q6X315BBlj",
        "colab_type": "text"
      },
      "source": [
        "## Time series model"
      ]
    },
    {
      "cell_type": "markdown",
      "metadata": {
        "id": "UBc1uFeEBnEA",
        "colab_type": "text"
      },
      "source": [
        "### Linear Model (Generalized)\n",
        "\n",
        "The linear model is optimized to return a linear combination of the inputs so that the specified loss function is minimized. \n",
        "\n",
        "$$\n",
        "    f(x) = \\mathbf{w}^\\top \\mathbf{x} + b\n",
        "$$\n",
        "\n",
        "where $\\mathbf{x}=(x^{(t)},...,x^{(t-p)})$. \n",
        "\n",
        "Sometimes, it is appropriate to apply a transformation $g$ to the linear combination in order to optimize the model more efficiently.\n",
        "\n",
        "$$\n",
        "    f(x) = g(\\mathbf{w}^\\top \\mathbf{x} + b)\n",
        "$$\n",
        "\n",
        "where $g$ is a non linear transformation or the identity function."
      ]
    },
    {
      "cell_type": "code",
      "metadata": {
        "id": "WojqefjVBFpj",
        "colab_type": "code",
        "colab": {}
      },
      "source": [
        "class GLM(nn.Module):\n",
        "    def __init__(self, input_size, output_activation_fn=None):\n",
        "        super().__init__()\n",
        "        self.linear = nn.Linear(input_size, 1, bias=True)\n",
        "        if output_activation_fn:\n",
        "            self.output_activation_fn = getattr(torch, activation_fn)\n",
        "        else:\n",
        "            self.output_activation_fn = lambda x: x\n",
        "        \n",
        "    def forward(self, x):\n",
        "        o = self.linear(x).squeeze()\n",
        "        return self.output_activation_fn(o)\n",
        "    \n",
        "    @torch.no_grad()\n",
        "    def predict(self, x):\n",
        "        return self.eval().forward(x).cpu()"
      ],
      "execution_count": 0,
      "outputs": []
    },
    {
      "cell_type": "markdown",
      "metadata": {
        "id": "yZQVK3o5DeH0",
        "colab_type": "text"
      },
      "source": [
        "### Feedforward neural network\n",
        "\n",
        "The parameters of the Neural networks are optimized to map the input to the target by applying non-linear transformation to the input allowing the model to learn more complex relation between the inputs and the targets.\n",
        "\n",
        "\\begin{align}\n",
        "    \\mathbf{h} =& g_1(\\mathbf{W} \\mathbf{x} + b_1)\\\\\n",
        "    \\hat{y} =& g_2(\\mathbf{w}^\\top \\mathbf{h} + b_2)\n",
        "\\end{align}"
      ]
    },
    {
      "cell_type": "code",
      "metadata": {
        "id": "GXtWEcxqC6XA",
        "colab_type": "code",
        "colab": {}
      },
      "source": [
        "class FNN(nn.Module):\n",
        "    def __init__(self, input_size, output_activation_fn=None):\n",
        "        super().__init__()\n",
        "        self.linear1 = nn.Linear(input_size, 1, bias=True)\n",
        "        self.linear2 = nn.Linear(512, 512, bias=True)\n",
        "        self.linear3 = nn.Linear(512, 1, bias=True)\n",
        "\n",
        "        if output_activation_fn:\n",
        "            self.output_activation_fn = getattr(torch, output_activation_fn)\n",
        "        else:\n",
        "            self.output_activation_fn = lambda x: x\n",
        "        \n",
        "    def forward(self, x):\n",
        "        h1 = torch.relu(self.linear1(x))\n",
        "        h2 = torch.relu(self.linear2(h1))\n",
        "        o = self.linear3(h2)\n",
        "        return self.output_activation_fn(o).squeeze()\n",
        "    \n",
        "    @torch.no_grad()\n",
        "    def predict(self, x):\n",
        "        return self.eval().forward(x).cpu()"
      ],
      "execution_count": 0,
      "outputs": []
    },
    {
      "cell_type": "markdown",
      "metadata": {
        "id": "pU3SsXpBF5od",
        "colab_type": "text"
      },
      "source": [
        "### Recurrent Neural Network"
      ]
    },
    {
      "cell_type": "code",
      "metadata": {
        "id": "1XlrEU94F0NB",
        "colab_type": "code",
        "colab": {}
      },
      "source": [
        "class RNN(nn.Module):\n",
        "    def __init__(self, input_size, output_activation_fn=None):\n",
        "        super().__init__()\n",
        "        self.rnn = nn.RNN(input_size=input_size, hidden_size=28, num_layer=1, bias=True)\n",
        "        self.fnn = nn.Linear(in_features=28, out_features=1)\n",
        "        \n",
        "        if output_activation_fn:\n",
        "            self.output_activation_fn = getattr(torch, output_activation_fn)\n",
        "        else:\n",
        "            self.output_activation_fn = lambda x: x\n",
        "        \n",
        "    def forward(self, x):\n",
        "        h, _ = self.rnn(x)\n",
        "        o = self.fnn(h)\n",
        "        return self.output_activation_fn(o).squeeze()\n",
        "    \n",
        "    @torch.no_grad()\n",
        "    def predict(self, x):\n",
        "        return self.eval().forward(x).cpu()"
      ],
      "execution_count": 0,
      "outputs": []
    },
    {
      "cell_type": "markdown",
      "metadata": {
        "id": "nsefO-gx55BV",
        "colab_type": "text"
      },
      "source": [
        "## Example 1: Synthetic Data"
      ]
    },
    {
      "cell_type": "markdown",
      "metadata": {
        "id": "mQM3Cb8X8dlw",
        "colab_type": "text"
      },
      "source": [
        "### 1.1 Learning the $\\sin()$ function"
      ]
    },
    {
      "cell_type": "markdown",
      "metadata": {
        "id": "_3Q7Uq88G3Cg",
        "colab_type": "text"
      },
      "source": [
        "#### Generate data"
      ]
    },
    {
      "cell_type": "code",
      "metadata": {
        "id": "Mbg7Dphl8tqF",
        "colab_type": "code",
        "outputId": "f50be948-62f7-449b-8d2b-b5b02b8e4d9c",
        "colab": {
          "base_uri": "https://localhost:8080/",
          "height": 269
        }
      },
      "source": [
        "DATA_SIZE = 16000\n",
        "TRAIN_SIZE = 8000\n",
        "VALID_SIZE = 4000\n",
        "TEST_SIZE = 4000\n",
        "\n",
        "# Generate data points \n",
        "data = numpy.sin(numpy.linspace(start=0, stop=100, num=DATA_SIZE))\n",
        "\n",
        "train_data = data[:TRAIN_SIZE]\n",
        "valid_data = data[TRAIN_SIZE:TRAIN_SIZE+VALID_SIZE]\n",
        "test_data = data[TRAIN_SIZE+VALID_SIZE:DATA_SIZE]\n",
        "\n",
        "pyplot.plot(range(TRAIN_SIZE), train_data, color='black')\n",
        "pyplot.plot(range(TRAIN_SIZE, TRAIN_SIZE+VALID_SIZE), valid_data, color='red')\n",
        "pyplot.plot(range(TRAIN_SIZE+VALID_SIZE, DATA_SIZE), test_data, color='orange')\n",
        "pyplot.ylim(-2, 2)\n",
        "pyplot.legend(['train data', 'valid data', 'test data'])\n",
        "pyplot.show()"
      ],
      "execution_count": 0,
      "outputs": [
        {
          "output_type": "display_data",
          "data": {
            "image/png": "[encoded data removed]",
            "text/plain": [
              "<Figure size 432x288 with 1 Axes>"
            ]
          },
          "metadata": {
            "tags": []
          }
        }
      ]
    },
    {
      "cell_type": "markdown",
      "metadata": {
        "id": "Esji5vgeHiE1",
        "colab_type": "text"
      },
      "source": [
        "#### Problem Statement\n",
        "\n",
        "Our goal is to predice the value of the next points based on the value of the past $p$ points. \n",
        "\n",
        "$$\n",
        "    f\\colon (x^{(t)},...,x^{(t-p)})^\\top \\mapsto x^{(t+1)}\n",
        "$$"
      ]
    },
    {
      "cell_type": "markdown",
      "metadata": {
        "id": "7dLUBygaG8aK",
        "colab_type": "text"
      },
      "source": [
        "#### Preprocessing\n",
        "\n",
        "Currently, we have 16000 points $\\mathbf{X}=(x^{(1)},...,x^{(16000)})$. A more convenient way to arrange the data for the optimization is to have each example in a different row:\n",
        "\n",
        "$$\n",
        "    \\begin{pmatrix}\n",
        "        x^{(1)} & \\cdots & x^{(p)} \\\\\n",
        "        x^{(2)} & \\cdots & x^{(p+1)} \\\\\n",
        "        \\vdots & \\ddots & \\vdots \\\\\n",
        "        x^{(T-p)} & \\cdots & x^{(T)}\n",
        "    \\end{pmatrix}, \n",
        "    y = \\begin{pmatrix}\n",
        "        y^{(1)} \\\\\n",
        "        y^{(2)} \\\\\n",
        "        \\vdots \\\\\n",
        "        y^{(T)}\n",
        "    \\end{pmatrix}\n",
        "$$"
      ]
    },
    {
      "cell_type": "code",
      "metadata": {
        "id": "_77FWRLyGqVP",
        "colab_type": "code",
        "colab": {}
      },
      "source": [
        "def prepare_sequential_data(data, p):\n",
        "    source_data, target_data = [], []\n",
        "    for i in range(p, len(data)):\n",
        "        src = data[i-p:i]\n",
        "        trg = data[i]\n",
        "        source_data.append(src)\n",
        "        target_data.append(trg)\n",
        "    source_data = torch.tensor(source_data, dtype=torch.float32)\n",
        "    target_data = torch.tensor(target_data, dtype=torch.float32)\n",
        "    return source_data, target_data                "
      ],
      "execution_count": 0,
      "outputs": []
    },
    {
      "cell_type": "code",
      "metadata": {
        "id": "gD_LrJn6K6xo",
        "colab_type": "code",
        "outputId": "bb1fcf75-67a1-47f0-a417-aaa65e00bb33",
        "colab": {
          "base_uri": "https://localhost:8080/",
          "height": 156
        }
      },
      "source": [
        "train_x, train_y = prepare_sequential_data(train_data, p=4)\n",
        "train_x, train_y"
      ],
      "execution_count": 0,
      "outputs": [
        {
          "output_type": "execute_result",
          "data": {
            "text/plain": [
              "(tensor([[ 0.0000,  0.0063,  0.0125,  0.0188],\n",
              "         [ 0.0063,  0.0125,  0.0188,  0.0250],\n",
              "         [ 0.0125,  0.0188,  0.0250,  0.0312],\n",
              "         ...,\n",
              "         [-0.3014, -0.2954, -0.2894, -0.2834],\n",
              "         [-0.2954, -0.2894, -0.2834, -0.2774],\n",
              "         [-0.2894, -0.2834, -0.2774, -0.2714]]),\n",
              " tensor([ 0.0250,  0.0312,  0.0375,  ..., -0.2774, -0.2714, -0.2654]))"
            ]
          },
          "metadata": {
            "tags": []
          },
          "execution_count": 32
        }
      ]
    },
    {
      "cell_type": "markdown",
      "metadata": {
        "id": "zr7I409RL-qQ",
        "colab_type": "text"
      },
      "source": [
        "#### Optimization\n",
        "\n",
        "We will optimize the different models such that the mean squared error between the predictions and the targetes is minimized, i.e. \n",
        "\n",
        "$$\n",
        "    \\mathcal{L}(\\theta) = \\sum_{t=p}^T(f(\\mathbf{x}_{t:t-p}) - y^{(t)})^2\n",
        "$$\n",
        "\n",
        "where $\\mathbf{x}_{t:t-p}=(x^{(t)},...,x^{(t-p)})^\\top$"
      ]
    },
    {
      "cell_type": "code",
      "metadata": {
        "id": "Ceg3baF-MziM",
        "colab_type": "code",
        "colab": {}
      },
      "source": [
        "def train_step(x, y, model, optimizer, loss_fn):\n",
        "    model.train()\n",
        "    optimizer.zero_grad()\n",
        "    yhat = model(x)\n",
        "    loss = loss_fn(yhat, y)\n",
        "    loss.backward()\n",
        "    optimizer.step()\n",
        "\n",
        "def valid_step(x, y, model, loss_fn):\n",
        "    model.eval()\n",
        "    batch_size = x.shape[0]\n",
        "    yhat = model(x)\n",
        "    loss = loss_fn(yhat, y) * batch_size\n",
        "    return loss.item()\n",
        "\n",
        "def evaluate(dataloader, model, loss_fn, device):\n",
        "    loss = 0.\n",
        "    for batch_x, batch_y in dataloader:\n",
        "        batch_x, batch_y = batch_x.to(device), batch_y.to(device)\n",
        "        batch_loss = valid_step(batch_x, batch_y, model, loss_fn)\n",
        "        loss += batch_loss\n",
        "    return loss\n",
        "\n",
        "\n",
        "def train_iter(train_loader, model, optimizer, loss_fn):\n",
        "    for batch_x, batch_y in train_loader:\n",
        "        batch_x, batch_y = batch_x.to(device), batch_y.to(device)\n",
        "        train_step(batch_x, batch_y, model, optimizer, loss_fn)\n",
        "\n",
        "\n",
        "def train(train_loader, valid_loader, model, optimizer, loss_fn, max_iter, device):\n",
        "    with tqdm_notebook(range(max_iter), unit=' epoch') as progressbar:\n",
        "        for i in range(1, max_iter+1):\n",
        "            train_iter(train_loader, model, optimizer, loss_fn)\n",
        "            train_loss = evaluate(train_loader, model, loss_fn, device)\n",
        "            valid_loss = evaluate(valid_loader, model, loss_fn, device)\n",
        "            progressbar.set_description(f'Iter: {i}, Train MSE: {train_loss:.4f}, Valid MSE: {valid_loss:.4f}')\n",
        "            progressbar.update()"
      ],
      "execution_count": 0,
      "outputs": []
    },
    {
      "cell_type": "code",
      "metadata": {
        "id": "phIBSYeBRJ3p",
        "colab_type": "code",
        "outputId": "bf87b978-9203-40c1-96ac-13fffc045287",
        "colab": {
          "base_uri": "https://localhost:8080/",
          "height": 34
        }
      },
      "source": [
        "DEVICE = torch.device('cuda' if torch.cuda.is_available() else 'cpu')\n",
        "print(f'device: {DEVICE}')\n",
        "\n",
        "LAG = 30\n",
        "\n",
        "TRAIN_BATCH_SIZE = 128\n",
        "VALID_BATCH_SIZE = VALID_SIZE\n",
        "MAX_ITER = 100\n",
        "STEP_SIZE = 0.001 # learning rate"
      ],
      "execution_count": 0,
      "outputs": [
        {
          "output_type": "stream",
          "text": [
            "device: cuda\n"
          ],
          "name": "stdout"
        }
      ]
    },
    {
      "cell_type": "code",
      "metadata": {
        "id": "T2Ch0_gPS0YD",
        "colab_type": "code",
        "colab": {}
      },
      "source": [
        "train_x, train_y = prepare_sequential_data(train_data, p=LAG)\n",
        "valid_x, valid_y = prepare_sequential_data(valid_data, p=LAG)\n",
        "test_x, test_y = prepare_sequential_data(test_data, p=LAG)\n",
        "\n",
        "train_loader = DataLoader(TensorDataset(train_x, train_y), batch_size=TRAIN_BATCH_SIZE)\n",
        "valid_loader = DataLoader(TensorDataset(valid_x, valid_y), batch_size=VALID_BATCH_SIZE)\n",
        "test_loader = DataLoader(TensorDataset(test_x, test_y), batch_size=VALID_BATCH_SIZE)"
      ],
      "execution_count": 0,
      "outputs": []
    },
    {
      "cell_type": "markdown",
      "metadata": {
        "id": "5KjOhdBvVOzE",
        "colab_type": "text"
      },
      "source": [
        "#### GLM experiment"
      ]
    },
    {
      "cell_type": "code",
      "metadata": {
        "id": "b8NGVEQ6VCpc",
        "colab_type": "code",
        "outputId": "9c90a1d4-49d1-4002-a2fa-7a4c14d56f57",
        "colab": {
          "base_uri": "https://localhost:8080/",
          "height": 66,
          "referenced_widgets": [
            "65dee93656df40dbbc7449d98ff8708b",
            "b58f03347e5c42f389ae1f84353a99d8",
            "3ee7f198258f4a1d89ae2e0d14d74790",
            "fbc0990bbd784249932e35655207adfb",
            "9105be28f5b544748ccd1c5a88934239",
            "08ef2814aa2a4d4cb36dd04ac9a93bef",
            "2d6708327f944e4ca18c400cc394a52b",
            "6c44a75724314ff8aa02032dc9719c37"
          ]
        }
      },
      "source": [
        "glm = GLM(input_size=LAG).to(DEVICE)\n",
        "optimizer = torch.optim.Adam(glm.parameters(), lr=STEP_SIZE)\n",
        "loss_fn = torch.nn.MSELoss()\n",
        "train(train_loader, valid_loader, glm, optimizer, loss_fn, MAX_ITER, DEVICE)"
      ],
      "execution_count": 0,
      "outputs": [
        {
          "output_type": "display_data",
          "data": {
            "application/vnd.jupyter.widget-view+json": {
              "model_id": "65dee93656df40dbbc7449d98ff8708b",
              "version_minor": 0,
              "version_major": 2
            },
            "text/plain": [
              "HBox(children=(IntProgress(value=0), HTML(value='')))"
            ]
          },
          "metadata": {
            "tags": []
          }
        },
        {
          "output_type": "stream",
          "text": [
            "\n"
          ],
          "name": "stdout"
        }
      ]
    },
    {
      "cell_type": "markdown",
      "metadata": {
        "id": "Y190H5UwXUBS",
        "colab_type": "text"
      },
      "source": [
        "#### Results"
      ]
    },
    {
      "cell_type": "code",
      "metadata": {
        "id": "3hDGlztlXv4a",
        "colab_type": "code",
        "colab": {}
      },
      "source": [
        "def plot_results(train_true, valid_true, train_pred, valid_pred):\n",
        "    train_size = len(train_true)\n",
        "    valid_size = len(valid_true)\n",
        "\n",
        "    train_range = range(train_size)\n",
        "    valid_range = range(train_size, train_size+valid_size)\n",
        "\n",
        "    pyplot.plot(train_range, train_true, color='black')\n",
        "    pyplot.plot(valid_range, valid_true, color='black', linestyle='--')\n",
        "    \n",
        "    pyplot.scatter(train_range, train_pred, color='red', marker='.')\n",
        "    pyplot.scatter(valid_range, valid_pred, color='red', marker='.')\n",
        "\n",
        "    pyplot.ylim(-2, 2)\n",
        "    pyplot.legend(['train true', 'valid true', 'train pred', 'valid pred'])\n",
        "    pyplot.show()"
      ],
      "execution_count": 0,
      "outputs": []
    },
    {
      "cell_type": "code",
      "metadata": {
        "id": "NeMopOagXSn5",
        "colab_type": "code",
        "outputId": "cff07b55-5521-4899-9d63-57d59012a9d4",
        "colab": {
          "base_uri": "https://localhost:8080/",
          "height": 269
        }
      },
      "source": [
        "train_pred = glm.predict(train_x.to(DEVICE))\n",
        "valid_pred = glm.predict(valid_x.to(DEVICE))\n",
        "\n",
        "plot_results(train_y, valid_y, train_pred, valid_pred)"
      ],
      "execution_count": 0,
      "outputs": [
        {
          "output_type": "display_data",
          "data": {
            "image/png": "[encoded data removed]",
            "text/plain": [
              "<Figure size 432x288 with 1 Axes>"
            ]
          },
          "metadata": {
            "tags": []
          }
        }
      ]
    },
    {
      "cell_type": "markdown",
      "metadata": {
        "id": "Y8kH-58ia-Q5",
        "colab_type": "text"
      },
      "source": [
        "#### Iterative prediction"
      ]
    },
    {
      "cell_type": "code",
      "metadata": {
        "id": "PAFuVI1aa9X5",
        "colab_type": "code",
        "colab": {}
      },
      "source": [
        "valid_predictions = []\n",
        "\n",
        "x = valid_x[0]\n",
        "for _ in range(VALID_SIZE):\n",
        "    src = x[-LAG:].to(DEVICE)\n",
        "    yhat = model.predict(src)\n",
        "    valid_predictions,append(yhat.item())\n",
        "    x = torch.cat([x, yhat])"
      ],
      "execution_count": 0,
      "outputs": []
    },
    {
      "cell_type": "code",
      "metadata": {
        "id": "7QeI4q-OfKym",
        "colab_type": "code",
        "outputId": "b74d0c0a-c8b5-4479-f733-4328ffdd6b8f",
        "colab": {
          "base_uri": "https://localhost:8080/",
          "height": 34
        }
      },
      "source": [
        "x = valid_x[0]\n",
        "\n",
        "yhat = glm.predict(x.to(DEVICE))\n",
        "\n",
        "torch.cat([])"
      ],
      "execution_count": 0,
      "outputs": [
        {
          "output_type": "execute_result",
          "data": {
            "text/plain": [
              "-0.07477577030658722"
            ]
          },
          "metadata": {
            "tags": []
          },
          "execution_count": 75
        }
      ]
    },
    {
      "cell_type": "markdown",
      "metadata": {
        "id": "CDw6uCnVTCPr",
        "colab_type": "text"
      },
      "source": [
        "## 1.2 Variance Forecasting"
      ]
    },
    {
      "cell_type": "markdown",
      "metadata": {
        "id": "R6tL_M105w0K",
        "colab_type": "text"
      },
      "source": [
        "### Generating data with time dependencies"
      ]
    },
    {
      "cell_type": "code",
      "metadata": {
        "id": "AmQk82seRGK1",
        "colab_type": "code",
        "colab": {}
      },
      "source": [
        ""
      ],
      "execution_count": 0,
      "outputs": []
    },
    {
      "cell_type": "code",
      "metadata": {
        "id": "_HSvQs_3gggk",
        "colab_type": "code",
        "outputId": "3c81c94c-4ea6-464b-ce8b-ba4cdc5d3ee0",
        "colab": {
          "base_uri": "https://localhost:8080/",
          "height": 513
        }
      },
      "source": [
        "LAG = 10\n",
        "SKIP = 100\n",
        "INIT_VOL = 0.05\n",
        "\n",
        "coeffs_input = numpy.random.uniform(0, 0.75, LAG)\n",
        "coeffs_sigma = numpy.random.uniform(0, 0.25, LAG)\n",
        "\n",
        "series = numpy.random.normal(0, INIT_VOL, LAG)\n",
        "true_sigma = numpy.array([INIT_VOL] * LAG)\n",
        "X = []\n",
        "y = []\n",
        "\n",
        "for _ in range(1000+LAG+SKIP):\n",
        "    source_input = series[-LAG:]\n",
        "    source_sigma = true_sigma[-LAG:]\n",
        "    X.append(source_input)\n",
        "    sigma = 0.03 + numpy.dot(coeffs_input, source_input**2) + numpy.dot(coeffs_input, source_sigma**2)\n",
        "    true_sigma = numpy.append(true_sigma, sigma)\n",
        "    x = numpy.random.normal(0, sigma)\n",
        "    series = numpy.append(series, x)\n",
        "\n",
        "y = series[LAG+SKIP:]\n",
        "true_sigma = true_sigma[LAG+SKIP:]\n",
        "X = X[SKIP:]\n",
        "\n",
        "X = numpy.array(X)\n",
        "\n",
        "pyplot.plot(true_sigma)\n",
        "pyplot.show()\n",
        "\n",
        "pyplot.plot(series)\n",
        "pyplot.show()"
      ],
      "execution_count": 0,
      "outputs": [
        {
          "output_type": "display_data",
          "data": {
            "image/png": "[encoded data removed]",
            "text/plain": [
              "<Figure size 432x288 with 1 Axes>"
            ]
          },
          "metadata": {
            "tags": []
          }
        },
        {
          "output_type": "display_data",
          "data": {
            "image/png": "[encoded data removed]",
            "text/plain": [
              "<Figure size 432x288 with 1 Axes>"
            ]
          },
          "metadata": {
            "tags": []
          }
        }
      ]
    },
    {
      "cell_type": "code",
      "metadata": {
        "id": "Fk7yFpX36vTh",
        "colab_type": "code",
        "outputId": "0290c8b8-95f1-47fd-f3c4-903f3683242b",
        "colab": {
          "base_uri": "https://localhost:8080/",
          "height": 34
        }
      },
      "source": [
        "logpdf_true = stats.norm.logpdf(y, loc=numpy.zeros_like(y), scale=true_sigma).mean()\n",
        "print(logpdf_true)"
      ],
      "execution_count": 0,
      "outputs": [
        {
          "output_type": "stream",
          "text": [
            "1.7686935775215187\n"
          ],
          "name": "stdout"
        }
      ]
    },
    {
      "cell_type": "code",
      "metadata": {
        "id": "z-utQsa_3Sh6",
        "colab_type": "code",
        "outputId": "9dd764dc-a091-4a9b-cba3-878ab7de578e",
        "colab": {
          "base_uri": "https://localhost:8080/",
          "height": 34
        }
      },
      "source": [
        "pred_sigma_naive = numpy.std(X, axis=1)\n",
        "logpdf_naive = stats.norm.logpdf(y, loc=numpy.zeros_like(y), scale=pred_sigma_naive).mean()\n",
        "print(logpdf_naive)"
      ],
      "execution_count": 0,
      "outputs": [
        {
          "output_type": "stream",
          "text": [
            "1.6742062394420516\n"
          ],
          "name": "stdout"
        }
      ]
    },
    {
      "cell_type": "code",
      "metadata": {
        "id": "lpRNm40c3Xik",
        "colab_type": "code",
        "outputId": "7494858f-1760-43c5-f839-ee0f7e29bc33",
        "colab": {
          "base_uri": "https://localhost:8080/",
          "height": 34
        }
      },
      "source": [
        "device = torch.device('cuda' if torch.cuda.is_available() else 'cpu')\n",
        "print(f'device: {device}')\n",
        "\n",
        "X_tensor = torch.from_numpy(X).type(torch.float32)\n",
        "y_tensor = torch.from_numpy(y).type(torch.float32)\n",
        "\n",
        "dataset = torch.utils.data.TensorDataset(X_tensor, y_tensor)"
      ],
      "execution_count": 0,
      "outputs": [
        {
          "output_type": "stream",
          "text": [
            "device: cuda\n"
          ],
          "name": "stdout"
        }
      ]
    },
    {
      "cell_type": "code",
      "metadata": {
        "id": "7HAg-oBX55MF",
        "colab_type": "code",
        "colab": {}
      },
      "source": [
        "MAX_ITER = 5000\n",
        "LR = 0.001\n",
        "BATCH_SIZE = 28"
      ],
      "execution_count": 0,
      "outputs": []
    },
    {
      "cell_type": "code",
      "metadata": {
        "id": "SzuwU0zv3baG",
        "colab_type": "code",
        "outputId": "78256418-938a-43be-cb06-33d37ee7bda6",
        "colab": {
          "base_uri": "https://localhost:8080/",
          "height": 66,
          "referenced_widgets": [
            "135ac6c7661d4961af222f84c8a547ea",
            "ac1bfd5d4e0e49bab626fae456b286dc",
            "de0ab7c29f974f56be13b8fb6ffc5d63",
            "37005dbe0940415d9a7ea97642b22239",
            "57b88e870a144741b5ca94a02ec82286",
            "c280ea7fb776468e857caef00ac62283",
            "bc8e7a6de44e4e8997a6246f6540c3d6",
            "127221a2ca95451b8ff636ce432c7c3e"
          ]
        }
      },
      "source": [
        "dataloader = torch.utils.data.DataLoader(dataset, batch_size=BATCH_SIZE if BATCH_SIZE else len(dataset))\n",
        "rnn = RNN().to(device)\n",
        "optimizer = optim.Adam(glm.parameters(), lr=LR)\n",
        "\n",
        "with tqdm_notebook(range(MAX_ITER), unit=' epoch') as progressbar:\n",
        "    for i in range(1, MAX_ITER+1):\n",
        "        for batch in dataloader:\n",
        "            train_batch(glm, optimizer, *batch)\n",
        "        loss = evaluate(glm, dataloader)\n",
        "        progressbar.set_description(f'Iter: {i}, cross-entropy: {loss:.4f}')\n",
        "        progressbar.update()"
      ],
      "execution_count": 0,
      "outputs": [
        {
          "output_type": "display_data",
          "data": {
            "application/vnd.jupyter.widget-view+json": {
              "model_id": "135ac6c7661d4961af222f84c8a547ea",
              "version_minor": 0,
              "version_major": 2
            },
            "text/plain": [
              "HBox(children=(IntProgress(value=0, max=5000), HTML(value='')))"
            ]
          },
          "metadata": {
            "tags": []
          }
        },
        {
          "output_type": "stream",
          "text": [
            "\n"
          ],
          "name": "stdout"
        }
      ]
    },
    {
      "cell_type": "code",
      "metadata": {
        "id": "ILA9KQOo3cxh",
        "colab_type": "code",
        "outputId": "719465c3-1140-4cbd-f4ef-0fe6326e7062",
        "colab": {
          "base_uri": "https://localhost:8080/",
          "height": 286
        }
      },
      "source": [
        "pred_sigma_glm = glm.predict(X_tensor.to(device)).numpy().squeeze()\n",
        "logpdf_glm = stats.norm.logpdf(y, loc=numpy.zeros_like(y), scale=pred_sigma_glm).mean()\n",
        "print(logpdf_glm)\n",
        "\n",
        "pyplot.plot(true_sigma[:1000], color='red')\n",
        "pyplot.plot(pred_sigma_glm[:1000], color='black')\n",
        "pyplot.show()"
      ],
      "execution_count": 0,
      "outputs": [
        {
          "output_type": "stream",
          "text": [
            "1.7722617951380926\n"
          ],
          "name": "stdout"
        },
        {
          "output_type": "display_data",
          "data": {
            "image/png": "[encoded data removed]",
            "text/plain": [
              "<Figure size 432x288 with 1 Axes>"
            ]
          },
          "metadata": {
            "tags": []
          }
        }
      ]
    },
    {
      "cell_type": "code",
      "metadata": {
        "id": "fhj01QuT3j78",
        "colab_type": "code",
        "outputId": "e31107bb-7c28-49b1-e397-f70c203982f9",
        "colab": {
          "base_uri": "https://localhost:8080/",
          "height": 282
        }
      },
      "source": [
        "pyplot.plot(pred_sigma_naive[:1000])\n",
        "pyplot.plot(true_sigma[:1000])"
      ],
      "execution_count": 0,
      "outputs": [
        {
          "output_type": "execute_result",
          "data": {
            "text/plain": [
              "[<matplotlib.lines.Line2D at 0x7f0d860a4400>]"
            ]
          },
          "metadata": {
            "tags": []
          },
          "execution_count": 20
        },
        {
          "output_type": "display_data",
          "data": {
            "image/png": "[encoded data removed]",
            "text/plain": [
              "<Figure size 432x288 with 1 Axes>"
            ]
          },
          "metadata": {
            "tags": []
          }
        }
      ]
    }
  ]
}